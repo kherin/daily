{
 "cells": [
  {
   "cell_type": "markdown",
   "id": "ac5303e9-9e7e-4860-b44f-8dc02924d3f7",
   "metadata": {},
   "source": [
    "# Dodo Trail 2025 \n",
    "## 10km Race\n",
    "### Race Results Data Exploration & Analysis"
   ]
  },
  {
   "cell_type": "markdown",
   "id": "14df3ce6-635f-4476-9dc2-8a61406d6fe6",
   "metadata": {},
   "source": [
    "### Outline\n",
    "\n",
    "1. **Empirical CDF with Percentile Rank**\n",
    "_Show where I sit in the overall distribution of finish times._\n",
    "\n",
    "2. **Pace Distribution Histogram**\n",
    "_Convert finish times to pace (min/km) and show the distribution, highlighting my pace._\n",
    "\n",
    "3. **Performance Clustering via K-Means**\n",
    "_Group runners into performance tiers and see which tier I fall into._\n",
    "\n"
   ]
  },
  {
   "cell_type": "code",
   "execution_count": 1,
   "id": "63f0d7a4-ea41-4bfb-b712-59e041f93aad",
   "metadata": {},
   "outputs": [],
   "source": [
    "import pandas as pd\n",
    "from bs4 import BeautifulSoup\n",
    "import requests\n",
    "from lxml import html\n",
    "import matplotlib.pyplot as plt\n",
    "import numpy as np"
   ]
  },
  {
   "cell_type": "code",
   "execution_count": 2,
   "id": "8697ceee-fedd-4497-b280-61ad6ff3df8d",
   "metadata": {},
   "outputs": [],
   "source": [
    "raw_data = []"
   ]
  },
  {
   "cell_type": "markdown",
   "id": "30996dff-6652-49e9-9241-53e99b009028",
   "metadata": {},
   "source": [
    "## 1. Webscraping and Retrieving Race Results Data"
   ]
  },
  {
   "cell_type": "code",
   "execution_count": 16,
   "id": "15c2445a-2a1a-4eff-930a-f24f88da7db0",
   "metadata": {},
   "outputs": [],
   "source": [
    "# 1. Fetch the page\n",
    "for pageNumber in range(1, 27):\n",
    "    resp = requests.get(f\"https://results.finishtime.co.za/results.aspx?CId=35&RId=5248&EId=2&dt=0&PageNo={pageNumber}\")\n",
    "    resp.raise_for_status()\n",
    "\n",
    "    # 2. Parse into an lxml element tree\n",
    "    tree = html.fromstring(resp.content)\n",
    "\n",
    "    # 3. Locate your table\n",
    "    table_xpath = '//*[@id=\"ctl00_Content_Main_divGrid\"]/table'\n",
    "    table = tree.xpath(table_xpath)[0]\n",
    "\n",
    "    # 4. Iterate over rows\n",
    "    for idx, row in enumerate(table.xpath(\".//tr\")):\n",
    "        # skip header\n",
    "        if idx == 0:\n",
    "            continue\n",
    "\n",
    "        values = []\n",
    "        for cell in row.xpath(\".//td\"):\n",
    "            # try to pull anchor text\n",
    "            anchor_texts = cell.xpath(\".//a/text()\")\n",
    "            if anchor_texts:\n",
    "                values.append(anchor_texts[0].strip())\n",
    "            else:\n",
    "                # string(.) collapses all text descendants\n",
    "                values.append(cell.xpath(\"string(.)\").strip())\n",
    "\n",
    "        raw_data.append([values[1], values[2], values[5], values[7], values[8], values[9], values[11], values[12], values[13], values[14], values[15], values[17]])"
   ]
  },
  {
   "cell_type": "code",
   "execution_count": 4,
   "id": "eb5c6c40-6231-48bf-8746-675647083922",
   "metadata": {},
   "outputs": [],
   "source": [
    "columns = ['Race No', 'Pos', 'Name', 'Time', 'Pace', 'Overall Pos', 'Category', 'Cat Pos', 'Gender', 'Gen Pos', 'Country', 'Finish']"
   ]
  },
  {
   "cell_type": "code",
   "execution_count": 5,
   "id": "c76ec889-038e-4ef9-98b4-ccb9b39231b5",
   "metadata": {},
   "outputs": [],
   "source": [
    "df = pd.DataFrame(raw_data, columns=columns)"
   ]
  },
  {
   "cell_type": "markdown",
   "id": "6dc42e18-9df1-49a0-8587-89302980b6cc",
   "metadata": {},
   "source": [
    "### Peeking into data"
   ]
  },
  {
   "cell_type": "code",
   "execution_count": 6,
   "id": "2a95b714-7449-45ae-b2a5-82d8598f4540",
   "metadata": {},
   "outputs": [
    {
     "data": {
      "text/html": [
       "<div>\n",
       "<style scoped>\n",
       "    .dataframe tbody tr th:only-of-type {\n",
       "        vertical-align: middle;\n",
       "    }\n",
       "\n",
       "    .dataframe tbody tr th {\n",
       "        vertical-align: top;\n",
       "    }\n",
       "\n",
       "    .dataframe thead th {\n",
       "        text-align: right;\n",
       "    }\n",
       "</style>\n",
       "<table border=\"1\" class=\"dataframe\">\n",
       "  <thead>\n",
       "    <tr style=\"text-align: right;\">\n",
       "      <th></th>\n",
       "      <th>Race No</th>\n",
       "      <th>Pos</th>\n",
       "      <th>Name</th>\n",
       "      <th>Time</th>\n",
       "      <th>Pace</th>\n",
       "      <th>Overall Pos</th>\n",
       "      <th>Category</th>\n",
       "      <th>Cat Pos</th>\n",
       "      <th>Gender</th>\n",
       "      <th>Gen Pos</th>\n",
       "      <th>Country</th>\n",
       "      <th>Finish</th>\n",
       "    </tr>\n",
       "  </thead>\n",
       "  <tbody>\n",
       "    <tr>\n",
       "      <th>0</th>\n",
       "      <td>1200</td>\n",
       "      <td>1</td>\n",
       "      <td>Badal DUSOOA</td>\n",
       "      <td>00:52:16</td>\n",
       "      <td>5:13 min/km</td>\n",
       "      <td>1</td>\n",
       "      <td>20-39</td>\n",
       "      <td>1</td>\n",
       "      <td>Male</td>\n",
       "      <td>1</td>\n",
       "      <td>Mauritius</td>\n",
       "      <td>00:52:16</td>\n",
       "    </tr>\n",
       "    <tr>\n",
       "      <th>1</th>\n",
       "      <td>1091</td>\n",
       "      <td>2</td>\n",
       "      <td>Hanooveer Singh BOODHOA</td>\n",
       "      <td>00:53:07</td>\n",
       "      <td>5:18 min/km</td>\n",
       "      <td>2</td>\n",
       "      <td>20-39</td>\n",
       "      <td>2</td>\n",
       "      <td>Male</td>\n",
       "      <td>2</td>\n",
       "      <td>Mauritius</td>\n",
       "      <td>00:53:07</td>\n",
       "    </tr>\n",
       "    <tr>\n",
       "      <th>2</th>\n",
       "      <td>1152</td>\n",
       "      <td>3</td>\n",
       "      <td>Calvin Roy CUROOPEN</td>\n",
       "      <td>00:53:50</td>\n",
       "      <td>5:23 min/km</td>\n",
       "      <td>3</td>\n",
       "      <td>20-39</td>\n",
       "      <td>3</td>\n",
       "      <td>Male</td>\n",
       "      <td>3</td>\n",
       "      <td>Mauritius</td>\n",
       "      <td>00:53:50</td>\n",
       "    </tr>\n",
       "    <tr>\n",
       "      <th>3</th>\n",
       "      <td>1306</td>\n",
       "      <td>4</td>\n",
       "      <td>Nilesh ITTOO</td>\n",
       "      <td>00:54:28</td>\n",
       "      <td>5:26 min/km</td>\n",
       "      <td>4</td>\n",
       "      <td>20-39</td>\n",
       "      <td>4</td>\n",
       "      <td>Male</td>\n",
       "      <td>4</td>\n",
       "      <td>Mauritius</td>\n",
       "      <td>00:54:28</td>\n",
       "    </tr>\n",
       "    <tr>\n",
       "      <th>4</th>\n",
       "      <td>1280</td>\n",
       "      <td>5</td>\n",
       "      <td>Reane Bradley HINGOO</td>\n",
       "      <td>00:55:15</td>\n",
       "      <td>5:31 min/km</td>\n",
       "      <td>5</td>\n",
       "      <td>16-17</td>\n",
       "      <td>1</td>\n",
       "      <td>Male</td>\n",
       "      <td>5</td>\n",
       "      <td>Mauritius</td>\n",
       "      <td>00:55:15</td>\n",
       "    </tr>\n",
       "  </tbody>\n",
       "</table>\n",
       "</div>"
      ],
      "text/plain": [
       "  Race No Pos                     Name      Time         Pace Overall Pos  \\\n",
       "0    1200   1             Badal DUSOOA  00:52:16  5:13 min/km           1   \n",
       "1    1091   2  Hanooveer Singh BOODHOA  00:53:07  5:18 min/km           2   \n",
       "2    1152   3      Calvin Roy CUROOPEN  00:53:50  5:23 min/km           3   \n",
       "3    1306   4             Nilesh ITTOO  00:54:28  5:26 min/km           4   \n",
       "4    1280   5     Reane Bradley HINGOO  00:55:15  5:31 min/km           5   \n",
       "\n",
       "  Category Cat Pos Gender Gen Pos    Country    Finish  \n",
       "0    20-39       1   Male       1  Mauritius  00:52:16  \n",
       "1    20-39       2   Male       2  Mauritius  00:53:07  \n",
       "2    20-39       3   Male       3  Mauritius  00:53:50  \n",
       "3    20-39       4   Male       4  Mauritius  00:54:28  \n",
       "4    16-17       1   Male       5  Mauritius  00:55:15  "
      ]
     },
     "execution_count": 6,
     "metadata": {},
     "output_type": "execute_result"
    }
   ],
   "source": [
    "df.head(5)"
   ]
  },
  {
   "cell_type": "code",
   "execution_count": 7,
   "id": "9f86953c-dcb4-4d21-a202-f47187a96cd2",
   "metadata": {},
   "outputs": [],
   "source": [
    "my_name = 'Kherin BUNDHOO'"
   ]
  },
  {
   "cell_type": "code",
   "execution_count": 10,
   "id": "ffd1b5cd-2292-4096-a382-f907e80d1b2b",
   "metadata": {},
   "outputs": [
    {
     "data": {
      "text/plain": [
       "1292"
      ]
     },
     "execution_count": 10,
     "metadata": {},
     "output_type": "execute_result"
    }
   ],
   "source": [
    "len(df)"
   ]
  },
  {
   "cell_type": "code",
   "execution_count": 11,
   "id": "a52c9a5a-7386-41b2-90de-63324bb1278b",
   "metadata": {},
   "outputs": [
    {
     "data": {
      "text/html": [
       "<div>\n",
       "<style scoped>\n",
       "    .dataframe tbody tr th:only-of-type {\n",
       "        vertical-align: middle;\n",
       "    }\n",
       "\n",
       "    .dataframe tbody tr th {\n",
       "        vertical-align: top;\n",
       "    }\n",
       "\n",
       "    .dataframe thead th {\n",
       "        text-align: right;\n",
       "    }\n",
       "</style>\n",
       "<table border=\"1\" class=\"dataframe\">\n",
       "  <thead>\n",
       "    <tr style=\"text-align: right;\">\n",
       "      <th></th>\n",
       "      <th>Race No</th>\n",
       "      <th>Pos</th>\n",
       "      <th>Name</th>\n",
       "      <th>Time</th>\n",
       "      <th>Pace</th>\n",
       "      <th>Overall Pos</th>\n",
       "      <th>Category</th>\n",
       "      <th>Cat Pos</th>\n",
       "      <th>Gender</th>\n",
       "      <th>Gen Pos</th>\n",
       "      <th>Country</th>\n",
       "      <th>Finish</th>\n",
       "    </tr>\n",
       "  </thead>\n",
       "  <tbody>\n",
       "    <tr>\n",
       "      <th>80</th>\n",
       "      <td>1102</td>\n",
       "      <td>81</td>\n",
       "      <td>Kherin BUNDHOO</td>\n",
       "      <td>01:14:25</td>\n",
       "      <td>7:26 min/km</td>\n",
       "      <td>81</td>\n",
       "      <td>20-39</td>\n",
       "      <td>37</td>\n",
       "      <td>Male</td>\n",
       "      <td>72</td>\n",
       "      <td>Mauritius</td>\n",
       "      <td>01:14:25</td>\n",
       "    </tr>\n",
       "  </tbody>\n",
       "</table>\n",
       "</div>"
      ],
      "text/plain": [
       "   Race No Pos            Name      Time         Pace Overall Pos Category  \\\n",
       "80    1102  81  Kherin BUNDHOO  01:14:25  7:26 min/km          81    20-39   \n",
       "\n",
       "   Cat Pos Gender Gen Pos    Country    Finish  \n",
       "80      37   Male      72  Mauritius  01:14:25  "
      ]
     },
     "execution_count": 11,
     "metadata": {},
     "output_type": "execute_result"
    }
   ],
   "source": [
    "df[df['Name'] == my_name]"
   ]
  },
  {
   "cell_type": "markdown",
   "id": "31a969dd-8e36-4b26-bdf8-38474bdabd84",
   "metadata": {},
   "source": [
    "## A. **Empirical CDF with Percentile Rank** \n",
    "- Show where I sit in the overall distribution of finish times."
   ]
  },
  {
   "cell_type": "code",
   "execution_count": 12,
   "id": "4ae5787d-6289-4ed8-8ba0-54239adb4b6c",
   "metadata": {},
   "outputs": [
    {
     "data": {
      "image/png": "[encoded data removed]",
      "text/plain": [
       "<Figure size 800x400 with 1 Axes>"
      ]
     },
     "metadata": {},
     "output_type": "display_data"
    }
   ],
   "source": [
    "# 1. Parse times and compute seconds\n",
    "df['NetTime'] = pd.to_timedelta(df['Finish'])\n",
    "df['Time_sec'] = df['NetTime'].dt.total_seconds()\n",
    "\n",
    "# 2. Extract your time\n",
    "my_time = df.loc[df['Name'] == my_name, 'Time_sec'].iloc[0]\n",
    "\n",
    "# 3. Build ECDF\n",
    "times_sorted = np.sort(df['Time_sec'])\n",
    "ecdf = np.arange(1, len(times_sorted)+1) / len(times_sorted)\n",
    "\n",
    "# 4. Plot\n",
    "plt.figure(figsize=(8, 4))\n",
    "plt.plot(times_sorted/60, ecdf*100, lw=2)\n",
    "plt.axvline(my_time/60, color='red', linestyle='--',\n",
    "            label=f'You: {my_time/60:.2f} min ({ecdf[times_sorted <= my_time].max()*100:.1f}th pct)')\n",
    "plt.xlabel('Finish Time (min)')\n",
    "plt.ylabel('Cumulative Percentile (%)')\n",
    "plt.title('ECDF of 10 km Finish Times')\n",
    "plt.legend()\n",
    "plt.grid(alpha=0.3)\n",
    "plt.show()\n"
   ]
  },
  {
   "cell_type": "markdown",
   "id": "5a85eaf5-9eb9-4720-8f89-8829fd01e1f8",
   "metadata": {},
   "source": [
    "## B. **Pace Distribution Histogram**\n",
    "- Convert finish times to pace (min/km) and show the distribution, highlighting your pace"
   ]
  },
  {
   "cell_type": "code",
   "execution_count": 13,
   "id": "4a003536-7e76-4c16-8cf2-7ddb880af17f",
   "metadata": {},
   "outputs": [
    {
     "data": {
      "image/png": "[encoded data removed]",
      "text/plain": [
       "<Figure size 800x400 with 1 Axes>"
      ]
     },
     "metadata": {},
     "output_type": "display_data"
    }
   ],
   "source": [
    "# 1. Compute pace (seconds per km, then minutes)\n",
    "df['Pace_sec_per_km'] = df['Time_sec'] / 10\n",
    "df['Pace_min_per_km'] = df['Pace_sec_per_km'] / 60\n",
    "\n",
    "# 2. Your pace\n",
    "my_pace = df.loc[df['Name'] == my_name, 'Pace_min_per_km'].iloc[0]\n",
    "\n",
    "# 3. Plot histogram\n",
    "plt.figure(figsize=(8, 4))\n",
    "plt.hist(df['Pace_min_per_km'], bins=40, edgecolor='black')\n",
    "plt.axvline(my_pace, color='red', linestyle='--',\n",
    "            label=f'Your pace: {my_pace:.2f} min/km')\n",
    "plt.xlabel('Pace (min/km)')\n",
    "plt.ylabel('Number of Runners')\n",
    "plt.title('Distribution of Running Pace')\n",
    "plt.legend()\n",
    "plt.grid(alpha=0.3)\n",
    "plt.show()\n"
   ]
  }
 ],
 "metadata": {
  "kernelspec": {
   "display_name": "Python 3 (ipykernel)",
   "language": "python",
   "name": "python3"
  },
  "language_info": {
   "codemirror_mode": {
    "name": "ipython",
    "version": 3
   },
   "file_extension": ".py",
   "mimetype": "text/x-python",
   "name": "python",
   "nbconvert_exporter": "python",
   "pygments_lexer": "ipython3",
   "version": "3.10.12"
  }
 },
 "nbformat": 4,
 "nbformat_minor": 5
}
